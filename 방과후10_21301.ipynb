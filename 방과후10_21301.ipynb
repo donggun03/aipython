{
  "nbformat": 4,
  "nbformat_minor": 0,
  "metadata": {
    "colab": {
      "name": "방과후10_21301.ipynb",
      "provenance": [],
      "authorship_tag": "ABX9TyNvmT1fro0XThUhUHGzhFcK",
      "include_colab_link": true
    },
    "kernelspec": {
      "name": "python3",
      "display_name": "Python 3"
    }
  },
  "cells": [
    {
      "cell_type": "markdown",
      "metadata": {
        "id": "view-in-github",
        "colab_type": "text"
      },
      "source": [
        "<a href=\"https://colab.research.google.com/github/donggun03/aipython/blob/master/%EB%B0%A9%EA%B3%BC%ED%9B%8410_21301.ipynb\" target=\"_parent\"><img src=\"https://colab.research.google.com/assets/colab-badge.svg\" alt=\"Open In Colab\"/></a>"
      ]
    },
    {
      "cell_type": "code",
      "metadata": {
        "id": "S5UiY-XY_5ZW",
        "colab_type": "code",
        "colab": {}
      },
      "source": [
        ""
      ],
      "execution_count": 0,
      "outputs": []
    },
    {
      "cell_type": "markdown",
      "metadata": {
        "id": "C6WztYmgBYwj",
        "colab_type": "text"
      },
      "source": [
        "#Keras Al"
      ]
    },
    {
      "cell_type": "code",
      "metadata": {
        "id": "3fpbmlCtEIp7",
        "colab_type": "code",
        "colab": {
          "base_uri": "https://localhost:8080/",
          "height": 34
        },
        "outputId": "89d7f89d-4b62-4fa2-d222-a3bcef60c070"
      },
      "source": [
        "print(\"hello git hub\")"
      ],
      "execution_count": 1,
      "outputs": [
        {
          "output_type": "stream",
          "text": [
            "hello git hub\n"
          ],
          "name": "stdout"
        }
      ]
    }
  ]
}